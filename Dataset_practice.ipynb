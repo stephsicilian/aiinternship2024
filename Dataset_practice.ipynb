{
  "nbformat": 4,
  "nbformat_minor": 0,
  "metadata": {
    "colab": {
      "provenance": []
    },
    "kernelspec": {
      "name": "python3",
      "display_name": "Python 3"
    },
    "language_info": {
      "name": "python"
    }
  },
  "cells": [
    {
      "cell_type": "code",
      "execution_count": null,
      "metadata": {
        "id": "iBUd3yty5mTr"
      },
      "outputs": [],
      "source": [
        "import matplotlib.pyplot as plt\n",
        "import pandas as pd\n",
        "import numpy as np\n",
        "import scipy as sp\n",
        "from scipy import stats\n"
      ]
    },
    {
      "cell_type": "code",
      "source": [
        "#READS IN FILE\n",
        "oyster_data = pd.read_csv('bop_data.csv')"
      ],
      "metadata": {
        "id": "H8rpFPnv7WOV"
      },
      "execution_count": null,
      "outputs": []
    },
    {
      "cell_type": "code",
      "source": [
        "oyster_data.columns"
      ],
      "metadata": {
        "colab": {
          "base_uri": "https://localhost:8080/"
        },
        "id": "CJR6Cjt67ghh",
        "outputId": "4a8a5396-0b61-468d-e405-1ceebdb59b0f"
      },
      "execution_count": null,
      "outputs": [
        {
          "output_type": "execute_result",
          "data": {
            "text/plain": [
              "Index(['Site', 'Date', 'live_dead', 'shell_height_mm', 'total_live', 'sample',\n",
              "       'time', 'latitude', 'longitude', 'depth_m', 'pH', 'cond_mScm',\n",
              "       'turb_NTU', 'TDS_gL', 'temp_C', 'sal_ppt', 'DO_mgL'],\n",
              "      dtype='object')"
            ]
          },
          "metadata": {},
          "execution_count": 10
        }
      ]
    },
    {
      "cell_type": "code",
      "source": [
        "#RENAMES 2 COLUMNS\n",
        "#inplace-\n",
        "oyster_data.rename(columns = {'Date' : 'date', 'Site' : 'site'}, inplace= True)"
      ],
      "metadata": {
        "id": "PF2_aRnd7lMi"
      },
      "execution_count": null,
      "outputs": []
    },
    {
      "cell_type": "code",
      "source": [
        "oyster_data.columns"
      ],
      "metadata": {
        "colab": {
          "base_uri": "https://localhost:8080/"
        },
        "id": "quRTWVCO8QjP",
        "outputId": "c5c8d19e-728e-4459-ba4c-f9501b5a2276"
      },
      "execution_count": null,
      "outputs": [
        {
          "output_type": "execute_result",
          "data": {
            "text/plain": [
              "Index(['site', 'date', 'live_dead', 'shell_height_mm', 'total_live', 'sample',\n",
              "       'time', 'latitude', 'longitude', 'depth_m', 'pH', 'cond_mScm',\n",
              "       'turb_NTU', 'TDS_gL', 'temp_C', 'sal_ppt', 'DO_mgL'],\n",
              "      dtype='object')"
            ]
          },
          "metadata": {},
          "execution_count": 12
        }
      ]
    },
    {
      "cell_type": "code",
      "source": [
        "#GET (ROWS, COLUMNS) #\n",
        "oyster_data.shape"
      ],
      "metadata": {
        "colab": {
          "base_uri": "https://localhost:8080/"
        },
        "id": "WqFFhL_t8otZ",
        "outputId": "29a84f34-8e8d-47a3-8126-f17a85635c9c"
      },
      "execution_count": null,
      "outputs": [
        {
          "output_type": "execute_result",
          "data": {
            "text/plain": [
              "(20039, 17)"
            ]
          },
          "metadata": {},
          "execution_count": 13
        }
      ]
    },
    {
      "cell_type": "code",
      "source": [
        "#identifies the sites, no repeats\n",
        "oyster_data['site'].unique()"
      ],
      "metadata": {
        "colab": {
          "base_uri": "https://localhost:8080/"
        },
        "id": "tEVlCn039Z_q",
        "outputId": "752a0c98-d476-4b08-f37f-4bed6cc87e31"
      },
      "execution_count": null,
      "outputs": [
        {
          "output_type": "execute_result",
          "data": {
            "text/plain": [
              "array(['Bush Terminal Park', 'Brooklyn Bridge Park', 'Coney Island Creek',\n",
              "       'Lemon Creek Lagoon', 'Paerdegat Basin', \"Governor's Island\",\n",
              "       'Lemon Creek Nursery', 'Great Kills Harbor', 'Brooklyn Navy Yard'],\n",
              "      dtype=object)"
            ]
          },
          "metadata": {},
          "execution_count": 14
        }
      ]
    },
    {
      "cell_type": "code",
      "source": [
        "# head() returns the first 5 rows, tail() returns last 5 rows\n",
        "# NaN: empty data\n",
        "oyster_data.head()"
      ],
      "metadata": {
        "colab": {
          "base_uri": "https://localhost:8080/",
          "height": 400
        },
        "id": "7bGZbrl2-IWh",
        "outputId": "48beeebd-89e0-4655-ec1a-b606357bf2a3"
      },
      "execution_count": null,
      "outputs": [
        {
          "output_type": "execute_result",
          "data": {
            "text/plain": [
              "                 site        date live_dead  shell_height_mm  total_live  \\\n",
              "0  Bush Terminal Park  2016-07-20       NaN             12.0         NaN   \n",
              "1  Bush Terminal Park  2016-07-20       NaN             12.0         NaN   \n",
              "2  Bush Terminal Park  2016-07-20       NaN             12.0         NaN   \n",
              "3  Bush Terminal Park  2016-07-20       NaN             12.0         NaN   \n",
              "4  Bush Terminal Park  2016-07-20       NaN             12.0         NaN   \n",
              "\n",
              "  sample        time   latitude  longitude  depth_m    pH  cond_mScm  \\\n",
              "0      A  2:14:00 PM  40.653736 -74.018760      0.0  8.64       37.4   \n",
              "1      B  2:22:00 PM  40.654206 -74.019517      0.0  8.21       37.8   \n",
              "2      C  2:26:00 PM  40.654473 -74.019106      1.0  8.35       38.3   \n",
              "3      D  2:30:00 PM  40.654269 -74.018720      1.0  8.69       38.6   \n",
              "4      E  2:36:00 PM  40.654438 -74.018495      0.0  7.92       39.1   \n",
              "\n",
              "   turb_NTU  TDS_gL  temp_C  sal_ppt  DO_mgL  \n",
              "0      16.0     NaN   27.40     23.8   12.15  \n",
              "1      12.0    23.1   25.52     24.0    8.26  \n",
              "2       8.9    23.4   25.27     24.3    9.19  \n",
              "3      14.1    23.5   26.89     24.5   11.99  \n",
              "4      10.4    23.9   24.66     24.9    7.53  "
            ],
            "text/html": [
              "\n",
              "  <div id=\"df-ca31369d-4144-4d97-a41c-772201bd3c5d\" class=\"colab-df-container\">\n",
              "    <div>\n",
              "<style scoped>\n",
              "    .dataframe tbody tr th:only-of-type {\n",
              "        vertical-align: middle;\n",
              "    }\n",
              "\n",
              "    .dataframe tbody tr th {\n",
              "        vertical-align: top;\n",
              "    }\n",
              "\n",
              "    .dataframe thead th {\n",
              "        text-align: right;\n",
              "    }\n",
              "</style>\n",
              "<table border=\"1\" class=\"dataframe\">\n",
              "  <thead>\n",
              "    <tr style=\"text-align: right;\">\n",
              "      <th></th>\n",
              "      <th>site</th>\n",
              "      <th>date</th>\n",
              "      <th>live_dead</th>\n",
              "      <th>shell_height_mm</th>\n",
              "      <th>total_live</th>\n",
              "      <th>sample</th>\n",
              "      <th>time</th>\n",
              "      <th>latitude</th>\n",
              "      <th>longitude</th>\n",
              "      <th>depth_m</th>\n",
              "      <th>pH</th>\n",
              "      <th>cond_mScm</th>\n",
              "      <th>turb_NTU</th>\n",
              "      <th>TDS_gL</th>\n",
              "      <th>temp_C</th>\n",
              "      <th>sal_ppt</th>\n",
              "      <th>DO_mgL</th>\n",
              "    </tr>\n",
              "  </thead>\n",
              "  <tbody>\n",
              "    <tr>\n",
              "      <th>0</th>\n",
              "      <td>Bush Terminal Park</td>\n",
              "      <td>2016-07-20</td>\n",
              "      <td>NaN</td>\n",
              "      <td>12.0</td>\n",
              "      <td>NaN</td>\n",
              "      <td>A</td>\n",
              "      <td>2:14:00 PM</td>\n",
              "      <td>40.653736</td>\n",
              "      <td>-74.018760</td>\n",
              "      <td>0.0</td>\n",
              "      <td>8.64</td>\n",
              "      <td>37.4</td>\n",
              "      <td>16.0</td>\n",
              "      <td>NaN</td>\n",
              "      <td>27.40</td>\n",
              "      <td>23.8</td>\n",
              "      <td>12.15</td>\n",
              "    </tr>\n",
              "    <tr>\n",
              "      <th>1</th>\n",
              "      <td>Bush Terminal Park</td>\n",
              "      <td>2016-07-20</td>\n",
              "      <td>NaN</td>\n",
              "      <td>12.0</td>\n",
              "      <td>NaN</td>\n",
              "      <td>B</td>\n",
              "      <td>2:22:00 PM</td>\n",
              "      <td>40.654206</td>\n",
              "      <td>-74.019517</td>\n",
              "      <td>0.0</td>\n",
              "      <td>8.21</td>\n",
              "      <td>37.8</td>\n",
              "      <td>12.0</td>\n",
              "      <td>23.1</td>\n",
              "      <td>25.52</td>\n",
              "      <td>24.0</td>\n",
              "      <td>8.26</td>\n",
              "    </tr>\n",
              "    <tr>\n",
              "      <th>2</th>\n",
              "      <td>Bush Terminal Park</td>\n",
              "      <td>2016-07-20</td>\n",
              "      <td>NaN</td>\n",
              "      <td>12.0</td>\n",
              "      <td>NaN</td>\n",
              "      <td>C</td>\n",
              "      <td>2:26:00 PM</td>\n",
              "      <td>40.654473</td>\n",
              "      <td>-74.019106</td>\n",
              "      <td>1.0</td>\n",
              "      <td>8.35</td>\n",
              "      <td>38.3</td>\n",
              "      <td>8.9</td>\n",
              "      <td>23.4</td>\n",
              "      <td>25.27</td>\n",
              "      <td>24.3</td>\n",
              "      <td>9.19</td>\n",
              "    </tr>\n",
              "    <tr>\n",
              "      <th>3</th>\n",
              "      <td>Bush Terminal Park</td>\n",
              "      <td>2016-07-20</td>\n",
              "      <td>NaN</td>\n",
              "      <td>12.0</td>\n",
              "      <td>NaN</td>\n",
              "      <td>D</td>\n",
              "      <td>2:30:00 PM</td>\n",
              "      <td>40.654269</td>\n",
              "      <td>-74.018720</td>\n",
              "      <td>1.0</td>\n",
              "      <td>8.69</td>\n",
              "      <td>38.6</td>\n",
              "      <td>14.1</td>\n",
              "      <td>23.5</td>\n",
              "      <td>26.89</td>\n",
              "      <td>24.5</td>\n",
              "      <td>11.99</td>\n",
              "    </tr>\n",
              "    <tr>\n",
              "      <th>4</th>\n",
              "      <td>Bush Terminal Park</td>\n",
              "      <td>2016-07-20</td>\n",
              "      <td>NaN</td>\n",
              "      <td>12.0</td>\n",
              "      <td>NaN</td>\n",
              "      <td>E</td>\n",
              "      <td>2:36:00 PM</td>\n",
              "      <td>40.654438</td>\n",
              "      <td>-74.018495</td>\n",
              "      <td>0.0</td>\n",
              "      <td>7.92</td>\n",
              "      <td>39.1</td>\n",
              "      <td>10.4</td>\n",
              "      <td>23.9</td>\n",
              "      <td>24.66</td>\n",
              "      <td>24.9</td>\n",
              "      <td>7.53</td>\n",
              "    </tr>\n",
              "  </tbody>\n",
              "</table>\n",
              "</div>\n",
              "    <div class=\"colab-df-buttons\">\n",
              "\n",
              "  <div class=\"colab-df-container\">\n",
              "    <button class=\"colab-df-convert\" onclick=\"convertToInteractive('df-ca31369d-4144-4d97-a41c-772201bd3c5d')\"\n",
              "            title=\"Convert this dataframe to an interactive table.\"\n",
              "            style=\"display:none;\">\n",
              "\n",
              "  <svg xmlns=\"http://www.w3.org/2000/svg\" height=\"24px\" viewBox=\"0 -960 960 960\">\n",
              "    <path d=\"M120-120v-720h720v720H120Zm60-500h600v-160H180v160Zm220 220h160v-160H400v160Zm0 220h160v-160H400v160ZM180-400h160v-160H180v160Zm440 0h160v-160H620v160ZM180-180h160v-160H180v160Zm440 0h160v-160H620v160Z\"/>\n",
              "  </svg>\n",
              "    </button>\n",
              "\n",
              "  <style>\n",
              "    .colab-df-container {\n",
              "      display:flex;\n",
              "      gap: 12px;\n",
              "    }\n",
              "\n",
              "    .colab-df-convert {\n",
              "      background-color: #E8F0FE;\n",
              "      border: none;\n",
              "      border-radius: 50%;\n",
              "      cursor: pointer;\n",
              "      display: none;\n",
              "      fill: #1967D2;\n",
              "      height: 32px;\n",
              "      padding: 0 0 0 0;\n",
              "      width: 32px;\n",
              "    }\n",
              "\n",
              "    .colab-df-convert:hover {\n",
              "      background-color: #E2EBFA;\n",
              "      box-shadow: 0px 1px 2px rgba(60, 64, 67, 0.3), 0px 1px 3px 1px rgba(60, 64, 67, 0.15);\n",
              "      fill: #174EA6;\n",
              "    }\n",
              "\n",
              "    .colab-df-buttons div {\n",
              "      margin-bottom: 4px;\n",
              "    }\n",
              "\n",
              "    [theme=dark] .colab-df-convert {\n",
              "      background-color: #3B4455;\n",
              "      fill: #D2E3FC;\n",
              "    }\n",
              "\n",
              "    [theme=dark] .colab-df-convert:hover {\n",
              "      background-color: #434B5C;\n",
              "      box-shadow: 0px 1px 3px 1px rgba(0, 0, 0, 0.15);\n",
              "      filter: drop-shadow(0px 1px 2px rgba(0, 0, 0, 0.3));\n",
              "      fill: #FFFFFF;\n",
              "    }\n",
              "  </style>\n",
              "\n",
              "    <script>\n",
              "      const buttonEl =\n",
              "        document.querySelector('#df-ca31369d-4144-4d97-a41c-772201bd3c5d button.colab-df-convert');\n",
              "      buttonEl.style.display =\n",
              "        google.colab.kernel.accessAllowed ? 'block' : 'none';\n",
              "\n",
              "      async function convertToInteractive(key) {\n",
              "        const element = document.querySelector('#df-ca31369d-4144-4d97-a41c-772201bd3c5d');\n",
              "        const dataTable =\n",
              "          await google.colab.kernel.invokeFunction('convertToInteractive',\n",
              "                                                    [key], {});\n",
              "        if (!dataTable) return;\n",
              "\n",
              "        const docLinkHtml = 'Like what you see? Visit the ' +\n",
              "          '<a target=\"_blank\" href=https://colab.research.google.com/notebooks/data_table.ipynb>data table notebook</a>'\n",
              "          + ' to learn more about interactive tables.';\n",
              "        element.innerHTML = '';\n",
              "        dataTable['output_type'] = 'display_data';\n",
              "        await google.colab.output.renderOutput(dataTable, element);\n",
              "        const docLink = document.createElement('div');\n",
              "        docLink.innerHTML = docLinkHtml;\n",
              "        element.appendChild(docLink);\n",
              "      }\n",
              "    </script>\n",
              "  </div>\n",
              "\n",
              "\n",
              "<div id=\"df-d7fd07bf-f893-4b6f-b0a6-4c6cf1ad18eb\">\n",
              "  <button class=\"colab-df-quickchart\" onclick=\"quickchart('df-d7fd07bf-f893-4b6f-b0a6-4c6cf1ad18eb')\"\n",
              "            title=\"Suggest charts\"\n",
              "            style=\"display:none;\">\n",
              "\n",
              "<svg xmlns=\"http://www.w3.org/2000/svg\" height=\"24px\"viewBox=\"0 0 24 24\"\n",
              "     width=\"24px\">\n",
              "    <g>\n",
              "        <path d=\"M19 3H5c-1.1 0-2 .9-2 2v14c0 1.1.9 2 2 2h14c1.1 0 2-.9 2-2V5c0-1.1-.9-2-2-2zM9 17H7v-7h2v7zm4 0h-2V7h2v10zm4 0h-2v-4h2v4z\"/>\n",
              "    </g>\n",
              "</svg>\n",
              "  </button>\n",
              "\n",
              "<style>\n",
              "  .colab-df-quickchart {\n",
              "      --bg-color: #E8F0FE;\n",
              "      --fill-color: #1967D2;\n",
              "      --hover-bg-color: #E2EBFA;\n",
              "      --hover-fill-color: #174EA6;\n",
              "      --disabled-fill-color: #AAA;\n",
              "      --disabled-bg-color: #DDD;\n",
              "  }\n",
              "\n",
              "  [theme=dark] .colab-df-quickchart {\n",
              "      --bg-color: #3B4455;\n",
              "      --fill-color: #D2E3FC;\n",
              "      --hover-bg-color: #434B5C;\n",
              "      --hover-fill-color: #FFFFFF;\n",
              "      --disabled-bg-color: #3B4455;\n",
              "      --disabled-fill-color: #666;\n",
              "  }\n",
              "\n",
              "  .colab-df-quickchart {\n",
              "    background-color: var(--bg-color);\n",
              "    border: none;\n",
              "    border-radius: 50%;\n",
              "    cursor: pointer;\n",
              "    display: none;\n",
              "    fill: var(--fill-color);\n",
              "    height: 32px;\n",
              "    padding: 0;\n",
              "    width: 32px;\n",
              "  }\n",
              "\n",
              "  .colab-df-quickchart:hover {\n",
              "    background-color: var(--hover-bg-color);\n",
              "    box-shadow: 0 1px 2px rgba(60, 64, 67, 0.3), 0 1px 3px 1px rgba(60, 64, 67, 0.15);\n",
              "    fill: var(--button-hover-fill-color);\n",
              "  }\n",
              "\n",
              "  .colab-df-quickchart-complete:disabled,\n",
              "  .colab-df-quickchart-complete:disabled:hover {\n",
              "    background-color: var(--disabled-bg-color);\n",
              "    fill: var(--disabled-fill-color);\n",
              "    box-shadow: none;\n",
              "  }\n",
              "\n",
              "  .colab-df-spinner {\n",
              "    border: 2px solid var(--fill-color);\n",
              "    border-color: transparent;\n",
              "    border-bottom-color: var(--fill-color);\n",
              "    animation:\n",
              "      spin 1s steps(1) infinite;\n",
              "  }\n",
              "\n",
              "  @keyframes spin {\n",
              "    0% {\n",
              "      border-color: transparent;\n",
              "      border-bottom-color: var(--fill-color);\n",
              "      border-left-color: var(--fill-color);\n",
              "    }\n",
              "    20% {\n",
              "      border-color: transparent;\n",
              "      border-left-color: var(--fill-color);\n",
              "      border-top-color: var(--fill-color);\n",
              "    }\n",
              "    30% {\n",
              "      border-color: transparent;\n",
              "      border-left-color: var(--fill-color);\n",
              "      border-top-color: var(--fill-color);\n",
              "      border-right-color: var(--fill-color);\n",
              "    }\n",
              "    40% {\n",
              "      border-color: transparent;\n",
              "      border-right-color: var(--fill-color);\n",
              "      border-top-color: var(--fill-color);\n",
              "    }\n",
              "    60% {\n",
              "      border-color: transparent;\n",
              "      border-right-color: var(--fill-color);\n",
              "    }\n",
              "    80% {\n",
              "      border-color: transparent;\n",
              "      border-right-color: var(--fill-color);\n",
              "      border-bottom-color: var(--fill-color);\n",
              "    }\n",
              "    90% {\n",
              "      border-color: transparent;\n",
              "      border-bottom-color: var(--fill-color);\n",
              "    }\n",
              "  }\n",
              "</style>\n",
              "\n",
              "  <script>\n",
              "    async function quickchart(key) {\n",
              "      const quickchartButtonEl =\n",
              "        document.querySelector('#' + key + ' button');\n",
              "      quickchartButtonEl.disabled = true;  // To prevent multiple clicks.\n",
              "      quickchartButtonEl.classList.add('colab-df-spinner');\n",
              "      try {\n",
              "        const charts = await google.colab.kernel.invokeFunction(\n",
              "            'suggestCharts', [key], {});\n",
              "      } catch (error) {\n",
              "        console.error('Error during call to suggestCharts:', error);\n",
              "      }\n",
              "      quickchartButtonEl.classList.remove('colab-df-spinner');\n",
              "      quickchartButtonEl.classList.add('colab-df-quickchart-complete');\n",
              "    }\n",
              "    (() => {\n",
              "      let quickchartButtonEl =\n",
              "        document.querySelector('#df-d7fd07bf-f893-4b6f-b0a6-4c6cf1ad18eb button');\n",
              "      quickchartButtonEl.style.display =\n",
              "        google.colab.kernel.accessAllowed ? 'block' : 'none';\n",
              "    })();\n",
              "  </script>\n",
              "</div>\n",
              "\n",
              "    </div>\n",
              "  </div>\n"
            ],
            "application/vnd.google.colaboratory.intrinsic+json": {
              "type": "dataframe",
              "variable_name": "oyster_data",
              "summary": "{\n  \"name\": \"oyster_data\",\n  \"rows\": 20039,\n  \"fields\": [\n    {\n      \"column\": \"site\",\n      \"properties\": {\n        \"dtype\": \"category\",\n        \"num_unique_values\": 9,\n        \"samples\": [\n          \"Great Kills Harbor\",\n          \"Brooklyn Bridge Park\",\n          \"Governor's Island\"\n        ],\n        \"semantic_type\": \"\",\n        \"description\": \"\"\n      }\n    },\n    {\n      \"column\": \"date\",\n      \"properties\": {\n        \"dtype\": \"object\",\n        \"num_unique_values\": 26,\n        \"samples\": [\n          \"2019-07-25\",\n          \"2017-09-08\",\n          \"2016-07-20\"\n        ],\n        \"semantic_type\": \"\",\n        \"description\": \"\"\n      }\n    },\n    {\n      \"column\": \"live_dead\",\n      \"properties\": {\n        \"dtype\": \"category\",\n        \"num_unique_values\": 2,\n        \"samples\": [\n          \"dead\",\n          \"live\"\n        ],\n        \"semantic_type\": \"\",\n        \"description\": \"\"\n      }\n    },\n    {\n      \"column\": \"shell_height_mm\",\n      \"properties\": {\n        \"dtype\": \"number\",\n        \"std\": 28.274550370282444,\n        \"min\": 0.0,\n        \"max\": 160.0,\n        \"num_unique_values\": 150,\n        \"samples\": [\n          79.0,\n          20.0\n        ],\n        \"semantic_type\": \"\",\n        \"description\": \"\"\n      }\n    },\n    {\n      \"column\": \"total_live\",\n      \"properties\": {\n        \"dtype\": \"number\",\n        \"std\": 17.8980253818982,\n        \"min\": 65.0,\n        \"max\": 102.0,\n        \"num_unique_values\": 3,\n        \"samples\": [\n          102.0,\n          65.0\n        ],\n        \"semantic_type\": \"\",\n        \"description\": \"\"\n      }\n    },\n    {\n      \"column\": \"sample\",\n      \"properties\": {\n        \"dtype\": \"category\",\n        \"num_unique_values\": 9,\n        \"samples\": [\n          \"2\",\n          \"B\"\n        ],\n        \"semantic_type\": \"\",\n        \"description\": \"\"\n      }\n    },\n    {\n      \"column\": \"time\",\n      \"properties\": {\n        \"dtype\": \"object\",\n        \"num_unique_values\": 35,\n        \"samples\": [\n          \"1:50 PM\",\n          \"12:08 PM\"\n        ],\n        \"semantic_type\": \"\",\n        \"description\": \"\"\n      }\n    },\n    {\n      \"column\": \"latitude\",\n      \"properties\": {\n        \"dtype\": \"number\",\n        \"std\": 0.00023547391354779024,\n        \"min\": 40.653736,\n        \"max\": 40.654473,\n        \"num_unique_values\": 13,\n        \"samples\": [\n          40.65421,\n          40.654266\n        ],\n        \"semantic_type\": \"\",\n        \"description\": \"\"\n      }\n    },\n    {\n      \"column\": \"longitude\",\n      \"properties\": {\n        \"dtype\": \"number\",\n        \"std\": 0.0003782792645267964,\n        \"min\": -74.01951700000001,\n        \"max\": -74.01835200000001,\n        \"num_unique_values\": 14,\n        \"samples\": [\n          -74.018915,\n          -74.01900699999999\n        ],\n        \"semantic_type\": \"\",\n        \"description\": \"\"\n      }\n    },\n    {\n      \"column\": \"depth_m\",\n      \"properties\": {\n        \"dtype\": \"number\",\n        \"std\": 0.4346616824636377,\n        \"min\": 0.0,\n        \"max\": 1.0,\n        \"num_unique_values\": 2,\n        \"samples\": [\n          1.0,\n          0.0\n        ],\n        \"semantic_type\": \"\",\n        \"description\": \"\"\n      }\n    },\n    {\n      \"column\": \"pH\",\n      \"properties\": {\n        \"dtype\": \"number\",\n        \"std\": 0.45774339491484434,\n        \"min\": 5.59,\n        \"max\": 8.69,\n        \"num_unique_values\": 30,\n        \"samples\": [\n          7.31,\n          8.4\n        ],\n        \"semantic_type\": \"\",\n        \"description\": \"\"\n      }\n    },\n    {\n      \"column\": \"cond_mScm\",\n      \"properties\": {\n        \"dtype\": \"number\",\n        \"std\": 5.126945422472748,\n        \"min\": 15.1,\n        \"max\": 40.9,\n        \"num_unique_values\": 30,\n        \"samples\": [\n          30.4,\n          32.1\n        ],\n        \"semantic_type\": \"\",\n        \"description\": \"\"\n      }\n    },\n    {\n      \"column\": \"turb_NTU\",\n      \"properties\": {\n        \"dtype\": \"number\",\n        \"std\": 10.559732530704265,\n        \"min\": 0.0,\n        \"max\": 85.7,\n        \"num_unique_values\": 33,\n        \"samples\": [\n          3.1,\n          23.2\n        ],\n        \"semantic_type\": \"\",\n        \"description\": \"\"\n      }\n    },\n    {\n      \"column\": \"TDS_gL\",\n      \"properties\": {\n        \"dtype\": \"number\",\n        \"std\": 3.24206421493606,\n        \"min\": 9.3,\n        \"max\": 25.0,\n        \"num_unique_values\": 23,\n        \"samples\": [\n          16.8,\n          15.8\n        ],\n        \"semantic_type\": \"\",\n        \"description\": \"\"\n      }\n    },\n    {\n      \"column\": \"temp_C\",\n      \"properties\": {\n        \"dtype\": \"number\",\n        \"std\": 4.732140614740431,\n        \"min\": 6.100417,\n        \"max\": 27.76,\n        \"num_unique_values\": 50,\n        \"samples\": [\n          20.15,\n          24.524167\n        ],\n        \"semantic_type\": \"\",\n        \"description\": \"\"\n      }\n    },\n    {\n      \"column\": \"sal_ppt\",\n      \"properties\": {\n        \"dtype\": \"number\",\n        \"std\": 3.252147865565755,\n        \"min\": 12.3647,\n        \"max\": 27.23276,\n        \"num_unique_values\": 35,\n        \"samples\": [\n          14.171011,\n          18.8120345\n        ],\n        \"semantic_type\": \"\",\n        \"description\": \"\"\n      }\n    },\n    {\n      \"column\": \"DO_mgL\",\n      \"properties\": {\n        \"dtype\": \"number\",\n        \"std\": 2.545474263411961,\n        \"min\": 0.7390000000000001,\n        \"max\": 12.35,\n        \"num_unique_values\": 48,\n        \"samples\": [\n          11.17,\n          4.37\n        ],\n        \"semantic_type\": \"\",\n        \"description\": \"\"\n      }\n    }\n  ]\n}"
            }
          },
          "metadata": {},
          "execution_count": 16
        }
      ]
    },
    {
      "cell_type": "code",
      "source": [
        "#explore shell height column\n",
        "oyster_data['shell_height_mm'].unique()\n"
      ],
      "metadata": {
        "colab": {
          "base_uri": "https://localhost:8080/"
        },
        "id": "jLAb7fGS_RUG",
        "outputId": "d1b153b3-5415-473b-f1d6-d9288367d01f"
      },
      "execution_count": null,
      "outputs": [
        {
          "output_type": "execute_result",
          "data": {
            "text/plain": [
              "array([ 12.,  11.,  13.,  15.,  16.,   5.,   4.,   9.,  10.,  14.,   6.,\n",
              "         8.,   7.,   3.,   2.,  17.,  18.,  19.,  20.,   1.,  22.,  33.,\n",
              "        42.,  34.,  28.,  36.,  26.,  31.,  29.,  24.,  21.,  27.,  25.,\n",
              "        40.,  30.,  35.,  38.,  23.,  32.,  41.,  37.,  54.,  53.,  45.,\n",
              "        56.,  57.,  58.,  46.,  48.,  62.,  55.,  43.,  44.,  51.,  47.,\n",
              "        52.,  69.,  39.,  49.,  71.,  67.,  64.,  59.,  50.,  65.,  63.,\n",
              "        60.,   0.,  74.,  61.,  70.,  87.,  76.,  79.,  92., 111.,  75.,\n",
              "        82.,  86.,  96., 118.,  72.,  80., 101.,  89., 100., 125.,  85.,\n",
              "        68.,  90.,  88.,  94.,  84.,  73.,  95.,  83.,  66.,  77., 106.,\n",
              "        98.,  78.,  nan, 110.,  81., 121.,  97., 115., 120., 102., 160.,\n",
              "       129.,  91., 130., 154., 104., 108., 113., 105., 103., 145.,  93.,\n",
              "       116., 114., 117., 112., 137., 148., 109., 140., 126., 128.,  99.,\n",
              "       119., 132., 134., 136., 135., 127., 141., 122., 153., 150., 133.,\n",
              "       124., 143., 107., 131., 123., 149., 151., 142.])"
            ]
          },
          "metadata": {},
          "execution_count": 17
        }
      ]
    },
    {
      "cell_type": "code",
      "source": [
        "oyster_data['shell_height_mm'].describe()"
      ],
      "metadata": {
        "colab": {
          "base_uri": "https://localhost:8080/"
        },
        "id": "goEMfClS_8GQ",
        "outputId": "ab62daf6-1f58-4960-b7d8-36edcd9bcb14"
      },
      "execution_count": null,
      "outputs": [
        {
          "output_type": "execute_result",
          "data": {
            "text/plain": [
              "count    19691.000000\n",
              "mean        29.966888\n",
              "std         28.274550\n",
              "min          0.000000\n",
              "25%          9.000000\n",
              "50%         19.000000\n",
              "75%         42.000000\n",
              "max        160.000000\n",
              "Name: shell_height_mm, dtype: float64"
            ]
          },
          "metadata": {},
          "execution_count": 24
        }
      ]
    },
    {
      "cell_type": "code",
      "source": [
        "#counts the occurrences of each unique value in a column\n",
        "oyster_data['shell_height_mm'].value_counts()"
      ],
      "metadata": {
        "colab": {
          "base_uri": "https://localhost:8080/"
        },
        "id": "tp9w9uayBh57",
        "outputId": "53de2c60-c1fd-4318-d81c-6405829c0307"
      },
      "execution_count": null,
      "outputs": [
        {
          "output_type": "execute_result",
          "data": {
            "text/plain": [
              "shell_height_mm\n",
              "9.0      950\n",
              "11.0     911\n",
              "8.0      824\n",
              "10.0     817\n",
              "7.0      764\n",
              "        ... \n",
              "123.0      3\n",
              "149.0      3\n",
              "151.0      3\n",
              "160.0      1\n",
              "154.0      1\n",
              "Name: count, Length: 150, dtype: int64"
            ]
          },
          "metadata": {},
          "execution_count": 27
        }
      ]
    },
    {
      "cell_type": "code",
      "source": [
        "#how many NaN are there in the shell height column\n",
        "oyster_data['shell_height_mm'].isna().sum()"
      ],
      "metadata": {
        "colab": {
          "base_uri": "https://localhost:8080/"
        },
        "id": "lN0FNTusBywv",
        "outputId": "e019590c-6a42-4b48-e860-88e172e366ed"
      },
      "execution_count": null,
      "outputs": [
        {
          "output_type": "execute_result",
          "data": {
            "text/plain": [
              "348"
            ]
          },
          "metadata": {},
          "execution_count": 28
        }
      ]
    },
    {
      "cell_type": "code",
      "source": [
        "# Filter out 0 values before finding min and max\n",
        "heights_excluding_zero = oyster_data[oyster_data['shell_height_mm'] != 0]['shell_height_mm']\n",
        "\n",
        "# Find the range of oyster heights excluding 0\n",
        "min_height = heights_excluding_zero.min()\n",
        "max_height = heights_excluding_zero.max()\n",
        "\n",
        "print(\"Minimum shell height (excluding 0):\", min_height, \"mm\")\n",
        "print(\"Maximum shell height (excluding 0):\", max_height, \"mm\")"
      ],
      "metadata": {
        "colab": {
          "base_uri": "https://localhost:8080/"
        },
        "id": "MIoh0ufTCtJN",
        "outputId": "0e574be6-35d0-4fb5-99c3-b06b651d3335"
      },
      "execution_count": null,
      "outputs": [
        {
          "output_type": "stream",
          "name": "stdout",
          "text": [
            "Minimum shell height (excluding 0): 1.0 mm\n",
            "Maximum shell height (excluding 0): 160.0 mm\n"
          ]
        }
      ]
    },
    {
      "cell_type": "code",
      "source": [
        "#find the number of 1mm oysters\n",
        "count_1mm_oysters = (oyster_data['shell_height_mm'] == 1).sum()\n",
        "print(\"Number of 1mm oysters:\", count_1mm_oysters)"
      ],
      "metadata": {
        "colab": {
          "base_uri": "https://localhost:8080/"
        },
        "id": "vZq4JYpnDEIm",
        "outputId": "cd8ac651-2dce-467c-d7c0-abc47048693b"
      },
      "execution_count": null,
      "outputs": [
        {
          "output_type": "stream",
          "name": "stdout",
          "text": [
            "Number of 1mm oysters: 204\n"
          ]
        }
      ]
    },
    {
      "cell_type": "code",
      "source": [
        "#keeping two columns only\n",
        "oyster_data = oyster_data [['site', 'shell_height_mm']]"
      ],
      "metadata": {
        "id": "rsqoIKuPD0h9"
      },
      "execution_count": null,
      "outputs": []
    },
    {
      "cell_type": "code",
      "source": [
        "#removing all rows with NaN values for shell_height_mm and site\n",
        "oyster_data = oyster_data.dropna()"
      ],
      "metadata": {
        "id": "FBj_6PmLEWQ4"
      },
      "execution_count": null,
      "outputs": []
    },
    {
      "cell_type": "code",
      "source": [
        "oyster_data.shape"
      ],
      "metadata": {
        "colab": {
          "base_uri": "https://localhost:8080/"
        },
        "id": "NJsSzg6nEdaK",
        "outputId": "c20aa0ca-1d18-4c66-aab8-12ab1a8af673"
      },
      "execution_count": null,
      "outputs": [
        {
          "output_type": "execute_result",
          "data": {
            "text/plain": [
              "(19691, 2)"
            ]
          },
          "metadata": {},
          "execution_count": 40
        }
      ]
    },
    {
      "cell_type": "code",
      "source": [
        "#average size of the oysters in a particular place\n",
        "oyster_data.groupby('site').mean()['shell_height_mm']"
      ],
      "metadata": {
        "colab": {
          "base_uri": "https://localhost:8080/"
        },
        "id": "UAtugQSqFN8H",
        "outputId": "e36dc5f5-6895-4215-85fb-d6a247b404c8"
      },
      "execution_count": null,
      "outputs": [
        {
          "output_type": "execute_result",
          "data": {
            "text/plain": [
              "site\n",
              "Brooklyn Bridge Park    24.625000\n",
              "Brooklyn Navy Yard      39.439791\n",
              "Bush Terminal Park      13.740504\n",
              "Coney Island Creek      47.135714\n",
              "Governor's Island       41.259740\n",
              "Great Kills Harbor      60.606921\n",
              "Lemon Creek Lagoon      28.465971\n",
              "Lemon Creek Nursery     43.994023\n",
              "Paerdegat Basin         52.285714\n",
              "Name: shell_height_mm, dtype: float64"
            ]
          },
          "metadata": {},
          "execution_count": 41
        }
      ]
    },
    {
      "cell_type": "code",
      "source": [
        "oyster_data['shell_height_mm'].plot.hist()\n",
        "plt.xlabel('shell_height_mm')\n",
        "plt.ylabel('y-axis')"
      ],
      "metadata": {
        "colab": {
          "base_uri": "https://localhost:8080/",
          "height": 468
        },
        "id": "kpt2q9jeFv94",
        "outputId": "9f75cdeb-8708-47b0-c913-18669acf6e2d"
      },
      "execution_count": null,
      "outputs": [
        {
          "output_type": "execute_result",
          "data": {
            "text/plain": [
              "Text(0, 0.5, 'y-axis')"
            ]
          },
          "metadata": {},
          "execution_count": 44
        },
        {
          "output_type": "display_data",
          "data": {
            "text/plain": [
              "<Figure size 640x480 with 1 Axes>"
            ],
            "image/png": "[encoded data removed]"
          },
          "metadata": {}
        }
      ]
    },
    {
      "cell_type": "code",
      "source": [
        "#bar plot showing the mean of the group\n",
        "oyster_data.groupby('site').mean()['shell_height_mm'].plot.bar()\n",
        "plt.ylabel('Average Oyster Size (mm)');"
      ],
      "metadata": {
        "colab": {
          "base_uri": "https://localhost:8080/",
          "height": 586
        },
        "id": "sTBkpaXKGMhu",
        "outputId": "5e643954-0dbc-4fa3-b690-7c8ee3222a42"
      },
      "execution_count": null,
      "outputs": [
        {
          "output_type": "display_data",
          "data": {
            "text/plain": [
              "<Figure size 640x480 with 1 Axes>"
            ],
            "image/png": "[encoded data removed]"
          },
          "metadata": {}
        }
      ]
    }
  ]
}